{
 "cells": [
  {
   "cell_type": "markdown",
   "metadata": {},
   "source": [
    "# Loneliest character"
   ]
  },
  {
   "cell_type": "raw",
   "metadata": {},
   "source": [
    "Complete the function which accepts a string and return an array of character(s) that have the most spaces to their right and left.\n",
    "\n",
    "Notes:\n",
    "\n",
    "the string can have leading/trailing spaces - you should not count them\n",
    "the strings contain only unique characters from a to z\n",
    "the order of characters in the returned array doesn\"t matter"
   ]
  },
  {
   "cell_type": "code",
   "execution_count": 1,
   "metadata": {},
   "outputs": [],
   "source": [
    "def pairs(ar):\n",
    "    pass"
   ]
  },
  {
   "cell_type": "code",
   "execution_count": 3,
   "metadata": {},
   "outputs": [
    {
     "data": {
      "text/plain": [
       "'abc'"
      ]
     },
     "execution_count": 3,
     "metadata": {},
     "output_type": "execute_result"
    }
   ],
   "source": [
    "# Examples\n",
    "\"a b  c\"                        #  [\"b\"]\n",
    "\"a bcs           d k\"           #  [\"d\"]\n",
    "\"    a b  sc     p     t   k\"   #  [\"p\"]\n",
    "\"a  b  c  de\"                   #  [\"b\", \"c\"]\n",
    "\"     a  b  c de        \"       #  [\"b\"]\n",
    "\"abc\"                           #  [\"a\", \"b\", \"c\"]"
   ]
  },
  {
   "cell_type": "markdown",
   "metadata": {},
   "source": [
    "# My Code"
   ]
  },
  {
   "cell_type": "code",
   "execution_count": 2,
   "metadata": {},
   "outputs": [],
   "source": [
    "ar = \"     a  b  c de        \" #  [\"b\"]"
   ]
  },
  {
   "cell_type": "code",
   "execution_count": 5,
   "metadata": {},
   "outputs": [
    {
     "data": {
      "text/plain": [
       "'     a  b  c de        '"
      ]
     },
     "execution_count": 5,
     "metadata": {},
     "output_type": "execute_result"
    }
   ],
   "source": [
    "ar"
   ]
  },
  {
   "cell_type": "code",
   "execution_count": 6,
   "metadata": {},
   "outputs": [
    {
     "data": {
      "text/plain": [
       "'a  b  c de'"
      ]
     },
     "execution_count": 6,
     "metadata": {},
     "output_type": "execute_result"
    }
   ],
   "source": [
    "# Remove leading and trailing whitespace\n",
    "ar.strip()"
   ]
  },
  {
   "cell_type": "code",
   "execution_count": 7,
   "metadata": {},
   "outputs": [
    {
     "name": "stdout",
     "output_type": "stream",
     "text": [
      "0 a\n",
      "1  \n",
      "2  \n",
      "3 b\n",
      "4  \n",
      "5  \n",
      "6 c\n",
      "7  \n",
      "8 d\n",
      "9 e\n"
     ]
    }
   ],
   "source": [
    "for i,j in enumerate(ar.strip()):\n",
    "    print(i,j)"
   ]
  },
  {
   "cell_type": "code",
   "execution_count": 9,
   "metadata": {},
   "outputs": [
    {
     "name": "stdout",
     "output_type": "stream",
     "text": [
      "0 a\n",
      "1  \n",
      "2  \n",
      "3 b\n",
      "4  \n",
      "5  \n",
      "6 c\n",
      "7  \n",
      "8 d\n",
      "9 e\n"
     ]
    },
    {
     "data": {
      "text/plain": [
       "0"
      ]
     },
     "execution_count": 9,
     "metadata": {},
     "output_type": "execute_result"
    }
   ],
   "source": [
    "# I was thinking about counting the spaces and adding the letters to a list\n",
    "result = []\n",
    "count = 0\n",
    "for i,j in enumerate(ar.strip()):\n",
    "    print(i,j)\n",
    "    if j == '':\n",
    "        count += 1\n",
    "count    "
   ]
  },
  {
   "cell_type": "code",
   "execution_count": 10,
   "metadata": {},
   "outputs": [
    {
     "name": "stdout",
     "output_type": "stream",
     "text": [
      "0 a\n",
      "1  \n",
      "2  \n",
      "3 b\n",
      "4  \n",
      "5  \n",
      "6 c\n",
      "7  \n",
      "8 d\n",
      "9 e\n"
     ]
    },
    {
     "data": {
      "text/plain": [
       "{'a': 0, ' ': 0, 'b': 0, 'c': 0, 'd': 0, 'e': 0}"
      ]
     },
     "execution_count": 10,
     "metadata": {},
     "output_type": "execute_result"
    }
   ],
   "source": [
    "# Maybe I should just add the letters to a dictionary and record total spaces\n",
    "letters = {}\n",
    "count = 0\n",
    "for i,j in enumerate(ar.strip()):\n",
    "    print(i,j)\n",
    "    letters[j] = count\n",
    "    if j == '':\n",
    "        count += 1\n",
    "    else:\n",
    "        count = 0\n",
    "letters        \n",
    "    "
   ]
  },
  {
   "cell_type": "code",
   "execution_count": 11,
   "metadata": {},
   "outputs": [
    {
     "data": {
      "text/plain": [
       "{'a': 0, 'b': 2, 'c': 4, 'd': 5, 'e': 5}"
      ]
     },
     "execution_count": 11,
     "metadata": {},
     "output_type": "execute_result"
    }
   ],
   "source": [
    "letters = {}\n",
    "count = 0\n",
    "for i,j in enumerate(ar.strip()):\n",
    "    if j.isalpha():\n",
    "        letters[j] = count\n",
    "    else:\n",
    "        count += 1\n",
    "letters        \n",
    "    "
   ]
  },
  {
   "cell_type": "code",
   "execution_count": 12,
   "metadata": {},
   "outputs": [
    {
     "data": {
      "text/plain": [
       "{'a': 0, 'b': 0, 'c': 0, 'd': 0, 'e': 0}"
      ]
     },
     "execution_count": 12,
     "metadata": {},
     "output_type": "execute_result"
    }
   ],
   "source": [
    "letters = {}\n",
    "\n",
    "for i,j in enumerate(ar.strip()):\n",
    "    count = 0\n",
    "    if j.isalpha():\n",
    "        letters[j] = count\n",
    "    else:\n",
    "        count += 1\n",
    "letters "
   ]
  },
  {
   "cell_type": "code",
   "execution_count": 13,
   "metadata": {},
   "outputs": [
    {
     "data": {
      "text/plain": [
       "{'a': 0, ' ': 0, 'b': 0, 'c': 0, 'd': 0, 'e': 0}"
      ]
     },
     "execution_count": 13,
     "metadata": {},
     "output_type": "execute_result"
    }
   ],
   "source": [
    "letters = {}\n",
    "count = 0\n",
    "for i,j in enumerate(ar.strip()):\n",
    "    if j == '':\n",
    "        count += 1\n",
    "    else:\n",
    "        letters[j] = count\n",
    "letters "
   ]
  },
  {
   "cell_type": "code",
   "execution_count": 14,
   "metadata": {},
   "outputs": [
    {
     "data": {
      "text/plain": [
       "(' ', 2)"
      ]
     },
     "execution_count": 14,
     "metadata": {},
     "output_type": "execute_result"
    }
   ],
   "source": [
    "longest = current = ''\n",
    "longest_rep = current_rep = 0\n",
    "\n",
    "for char in ar.strip():\n",
    "    if current == char:\n",
    "        current_rep += 1\n",
    "    else:\n",
    "        current = char\n",
    "        current_rep = 1\n",
    "    if current_rep > longest_rep:\n",
    "        longest_rep = current_rep\n",
    "        longest = current\n",
    "longest, longest_rep"
   ]
  },
  {
   "cell_type": "code",
   "execution_count": 15,
   "metadata": {},
   "outputs": [
    {
     "name": "stdout",
     "output_type": "stream",
     "text": [
      "a\n",
      " \n",
      " \n",
      "b\n",
      " \n",
      " \n",
      "c\n",
      " \n",
      "d\n",
      "e\n"
     ]
    },
    {
     "data": {
      "text/plain": [
       "('', 0)"
      ]
     },
     "execution_count": 15,
     "metadata": {},
     "output_type": "execute_result"
    }
   ],
   "source": [
    "count = 0\n",
    "current = ''\n",
    "for i in ar.strip():\n",
    "    print(i)\n",
    "    if i.isalpha():\n",
    "        current == i\n",
    "        count = 0\n",
    "    else:\n",
    "        count += 1\n",
    "current, count       "
   ]
  },
  {
   "cell_type": "code",
   "execution_count": 19,
   "metadata": {},
   "outputs": [
    {
     "data": {
      "text/plain": [
       "10"
      ]
     },
     "execution_count": 19,
     "metadata": {},
     "output_type": "execute_result"
    }
   ],
   "source": [
    "len(ar.strip())"
   ]
  },
  {
   "cell_type": "code",
   "execution_count": 24,
   "metadata": {},
   "outputs": [
    {
     "data": {
      "text/plain": [
       "'c'"
      ]
     },
     "execution_count": 24,
     "metadata": {},
     "output_type": "execute_result"
    }
   ],
   "source": [
    "ar.strip()[6]"
   ]
  },
  {
   "cell_type": "code",
   "execution_count": 26,
   "metadata": {},
   "outputs": [
    {
     "data": {
      "text/plain": [
       "'a  b  c de'"
      ]
     },
     "execution_count": 26,
     "metadata": {},
     "output_type": "execute_result"
    }
   ],
   "source": [
    "ar.strip()"
   ]
  },
  {
   "cell_type": "code",
   "execution_count": 25,
   "metadata": {},
   "outputs": [
    {
     "data": {
      "text/plain": [
       "5"
      ]
     },
     "execution_count": 25,
     "metadata": {},
     "output_type": "execute_result"
    }
   ],
   "source": [
    "spaces = 0\n",
    "for i in range(0, len(ar.strip())):\n",
    "    if(ar.strip()[i] == ' '):\n",
    "        spaces += 1\n",
    "spaces"
   ]
  },
  {
   "cell_type": "code",
   "execution_count": 34,
   "metadata": {},
   "outputs": [
    {
     "name": "stdout",
     "output_type": "stream",
     "text": [
      "a\n",
      " \n",
      " \n",
      "b\n",
      " \n",
      " \n",
      "c\n",
      " \n",
      "d\n",
      "e\n"
     ]
    },
    {
     "data": {
      "text/plain": [
       "{'a': 0, ' ': 5, 'b': 2, 'c': 4, 'd': 5, 'e': 5}"
      ]
     },
     "execution_count": 34,
     "metadata": {},
     "output_type": "execute_result"
    }
   ],
   "source": [
    "spaces_before = 0\n",
    "spaces_after = 0\n",
    "letter = ''\n",
    "items = {}\n",
    "for i in ar.strip():\n",
    "    print(i)\n",
    "    if (i).isalpha():\n",
    "        letter == i\n",
    "    else:\n",
    "        spaces_after += 1\n",
    "    items[i] = (spaces_before + spaces_after) \n",
    "items"
   ]
  },
  {
   "cell_type": "code",
   "execution_count": 32,
   "metadata": {},
   "outputs": [
    {
     "data": {
      "text/plain": [
       "False"
      ]
     },
     "execution_count": 32,
     "metadata": {},
     "output_type": "execute_result"
    }
   ],
   "source": [
    "spaces_before = 0\n",
    "spaces_after = 0\n",
    "letter = ''\n",
    "items = {}\n",
    "if i.isalpha()\n",
    "for i in ar.strip():\n",
    "    print(i)\n",
    "    if (i).isalpha():\n",
    "        letter == i\n",
    "    else:\n",
    "        spaces_after += 1\n",
    "    items[i] = (spaces_before + spaces_after) \n",
    "items"
   ]
  },
  {
   "cell_type": "code",
   "execution_count": 36,
   "metadata": {},
   "outputs": [
    {
     "name": "stdout",
     "output_type": "stream",
     "text": [
      "a\n",
      " \n",
      " \n",
      "b\n",
      " \n",
      " \n",
      "c\n",
      " \n",
      "d\n",
      "e\n"
     ]
    }
   ],
   "source": [
    "for i in ar.strip():\n",
    "    print(i)"
   ]
  },
  {
   "cell_type": "code",
   "execution_count": 39,
   "metadata": {},
   "outputs": [
    {
     "data": {
      "text/plain": [
       "{'a': 0, 'b': 2, 'c': 4, 'd': 5, 'e': 5}"
      ]
     },
     "execution_count": 39,
     "metadata": {},
     "output_type": "execute_result"
    }
   ],
   "source": [
    "for char in 'abcdefghijklmnopqrstuvwxyz':\n",
    "    spaces_before = 0\n",
    "    spaces_after = 0\n",
    "    items = {}\n",
    "    for i in ar.strip():\n",
    "        if i == ' ':\n",
    "            spaces_after += 1\n",
    "        else:\n",
    "            items[i] = (spaces_before + spaces_after)\n",
    "items          "
   ]
  },
  {
   "cell_type": "code",
   "execution_count": null,
   "metadata": {},
   "outputs": [],
   "source": []
  },
  {
   "cell_type": "code",
   "execution_count": null,
   "metadata": {},
   "outputs": [],
   "source": [
    "(a space space b space space c space d e)"
   ]
  },
  {
   "cell_type": "code",
   "execution_count": null,
   "metadata": {},
   "outputs": [],
   "source": [
    "a"
   ]
  },
  {
   "cell_type": "code",
   "execution_count": null,
   "metadata": {},
   "outputs": [],
   "source": [
    "for char in 'abcdefghijklmnopqrstuvwxyz':\n",
    "    spaces_before = 0\n",
    "    spaces_after = 0\n",
    "    items = {}\n",
    "    if "
   ]
  },
  {
   "cell_type": "code",
   "execution_count": 41,
   "metadata": {},
   "outputs": [
    {
     "data": {
      "text/plain": [
       "5"
      ]
     },
     "execution_count": 41,
     "metadata": {},
     "output_type": "execute_result"
    }
   ],
   "source": [
    "spaces = 0\n",
    "for i in range(0, len(ar.strip())):\n",
    "    if(ar.strip()[i] == ' '):\n",
    "        spaces += 1\n",
    "spaces"
   ]
  },
  {
   "cell_type": "code",
   "execution_count": 51,
   "metadata": {},
   "outputs": [
    {
     "name": "stdout",
     "output_type": "stream",
     "text": [
      " \n"
     ]
    },
    {
     "ename": "KeyError",
     "evalue": "' '",
     "output_type": "error",
     "traceback": [
      "\u001b[0;31m---------------------------------------------------------------------------\u001b[0m",
      "\u001b[0;31mKeyError\u001b[0m                                  Traceback (most recent call last)",
      "\u001b[0;32m<ipython-input-51-33b3a91612c2>\u001b[0m in \u001b[0;36m<module>\u001b[0;34m\u001b[0m\n\u001b[1;32m      6\u001b[0m         \u001b[0mspaces_after\u001b[0m \u001b[0;34m+=\u001b[0m \u001b[0;36m1\u001b[0m\u001b[0;34m\u001b[0m\u001b[0;34m\u001b[0m\u001b[0m\n\u001b[1;32m      7\u001b[0m         \u001b[0;32mbreak\u001b[0m\u001b[0;34m\u001b[0m\u001b[0;34m\u001b[0m\u001b[0m\n\u001b[0;32m----> 8\u001b[0;31m     \u001b[0mitems\u001b[0m\u001b[0;34m[\u001b[0m\u001b[0mar\u001b[0m\u001b[0;34m.\u001b[0m\u001b[0mstrip\u001b[0m\u001b[0;34m(\u001b[0m\u001b[0;34m)\u001b[0m\u001b[0;34m[\u001b[0m\u001b[0mi\u001b[0m\u001b[0;34m]\u001b[0m\u001b[0;34m]\u001b[0m\u001b[0;34m\u001b[0m\u001b[0;34m\u001b[0m\u001b[0m\n\u001b[0m\u001b[1;32m      9\u001b[0m \u001b[0mitems\u001b[0m\u001b[0;34m\u001b[0m\u001b[0;34m\u001b[0m\u001b[0m\n",
      "\u001b[0;31mKeyError\u001b[0m: ' '"
     ]
    }
   ],
   "source": [
    "items = {'a':0}\n",
    "spaces_after = 0\n",
    "for i in range(1, len(ar.strip())):\n",
    "    while ar.strip()[i].isspace():\n",
    "        spaces_after += 1\n",
    "        break\n",
    "    items[ar.strip()[i]]\n",
    "items    "
   ]
  },
  {
   "cell_type": "code",
   "execution_count": null,
   "metadata": {},
   "outputs": [],
   "source": [
    "spaces_before = 0   #left\n",
    "spaces_after = 0    #right\n",
    "letter = ''         #spaces\n",
    "items = {}\n",
    "for i in ar.strip():\n",
    "    if i == ' ':\n",
    "        spaces_before += 1\n",
    "        if spaces_after == 1:\n",
    "            \n",
    "    if (i).isalpha():\n",
    "        letter == i\n",
    "        if \n",
    "    items[i] = (spaces_before + spaces_after) \n",
    "items"
   ]
  },
  {
   "cell_type": "code",
   "execution_count": 76,
   "metadata": {},
   "outputs": [
    {
     "data": {
      "text/plain": [
       "{'a': 0, 'b': 2, 'c': 2, 'd': 1, 'e': 0}"
      ]
     },
     "execution_count": 76,
     "metadata": {},
     "output_type": "execute_result"
    }
   ],
   "source": [
    "spaces = 0\n",
    "items = {}\n",
    "    \n",
    "new_ar = ar.strip()\n",
    "items = {}\n",
    "spaces_before = 0\n",
    "for i in range(0, len(new_ar)):\n",
    "    if new_ar[i] == ' ':\n",
    "        spaces_before += 1\n",
    "    else:\n",
    "        items.update({new_ar[i]:spaces_before})\n",
    "        spaces_before = 0\n",
    "items"
   ]
  },
  {
   "cell_type": "code",
   "execution_count": 75,
   "metadata": {},
   "outputs": [
    {
     "data": {
      "text/plain": [
       "{'a': 0, 'b': 2, 'c': 2, 'd': 1, 'e': 0}"
      ]
     },
     "execution_count": 75,
     "metadata": {},
     "output_type": "execute_result"
    }
   ],
   "source": [
    "new_ar = ar.strip()\n",
    "items = {new_ar[0]:0}\n",
    "spaces_after = 0\n",
    "\n",
    "for i in range(1, len(new_ar)):  \n",
    "    if new_ar[i] == ' ':\n",
    "        spaces_after += 1     \n",
    "    else:\n",
    "        items.update({new_ar[i]:spaces_after})\n",
    "        spaces_after = 0\n",
    "items"
   ]
  },
  {
   "cell_type": "code",
   "execution_count": null,
   "metadata": {},
   "outputs": [],
   "source": []
  },
  {
   "cell_type": "code",
   "execution_count": 59,
   "metadata": {},
   "outputs": [
    {
     "data": {
      "text/plain": [
       "'a  b  c de'"
      ]
     },
     "execution_count": 59,
     "metadata": {},
     "output_type": "execute_result"
    }
   ],
   "source": [
    "ar.strip()"
   ]
  },
  {
   "cell_type": "code",
   "execution_count": 78,
   "metadata": {},
   "outputs": [
    {
     "name": "stdout",
     "output_type": "stream",
     "text": [
      "a\n",
      " \n",
      "1\n",
      " \n",
      "2\n",
      "b\n",
      " \n",
      "1\n",
      " \n",
      "2\n",
      "c\n",
      " \n",
      "1\n",
      "d\n",
      "e\n"
     ]
    },
    {
     "data": {
      "text/plain": [
       "{'a': 0, 'b': 2, 'c': 2, 'd': 1, 'e': 0}"
      ]
     },
     "execution_count": 78,
     "metadata": {},
     "output_type": "execute_result"
    }
   ],
   "source": [
    "# I can get all the spaces to the LEFT but not to the right of the letters\n",
    "\n",
    "spaces = 0\n",
    "items = {}\n",
    "    \n",
    "new_ar = ar.strip()\n",
    "items = {}\n",
    "spaces_before = 0\n",
    "spaces_after = 0\n",
    "for i in range(0, len(new_ar)):\n",
    "    print(new_ar[i])\n",
    "    if new_ar[i] == ' ':\n",
    "        spaces_before += 1\n",
    "        print(spaces_before)\n",
    "    else:\n",
    "        items.update({new_ar[i]:spaces_before})\n",
    "        if new_ar[i-1] == ' ':\n",
    "            spaces_after = spaces_before\n",
    "            items.update({new_ar[i]:spaces_before})\n",
    "        spaces_before = 0\n",
    "items"
   ]
  },
  {
   "cell_type": "code",
   "execution_count": 22,
   "metadata": {},
   "outputs": [
    {
     "name": "stdout",
     "output_type": "stream",
     "text": [
      "a\n",
      "0\n",
      " \n",
      " \n",
      "b\n",
      "0\n",
      " \n",
      " \n",
      "c\n",
      "0\n",
      " \n",
      "d\n",
      "0\n",
      "e\n",
      "0\n"
     ]
    },
    {
     "data": {
      "text/plain": [
       "{'a': 0, 'b': 2, 'c': 2, 'd': 1, 'e': 0}"
      ]
     },
     "execution_count": 22,
     "metadata": {},
     "output_type": "execute_result"
    }
   ],
   "source": [
    "# Can't get the spaces on the right\n",
    "\n",
    "space_left = 0\n",
    "space_right = 0\n",
    "results = {}\n",
    "for i in ar.strip():\n",
    "    print(i)\n",
    "    if i.isalpha():\n",
    "        results[i]=space_left\n",
    "        space_left = 0\n",
    "        print(space_left)\n",
    "    if i == ' ':\n",
    "        space_left += 1\n",
    "results"
   ]
  },
  {
   "cell_type": "code",
   "execution_count": 20,
   "metadata": {},
   "outputs": [
    {
     "ename": "SyntaxError",
     "evalue": "invalid syntax (<ipython-input-20-bc469ee906ee>, line 1)",
     "output_type": "error",
     "traceback": [
      "\u001b[0;36m  File \u001b[0;32m\"<ipython-input-20-bc469ee906ee>\"\u001b[0;36m, line \u001b[0;32m1\u001b[0m\n\u001b[0;31m    a space space b space space c space d e\u001b[0m\n\u001b[0m      ^\u001b[0m\n\u001b[0;31mSyntaxError\u001b[0m\u001b[0;31m:\u001b[0m invalid syntax\n"
     ]
    }
   ],
   "source": [
    "# a space space b space space c space d e"
   ]
  },
  {
   "cell_type": "code",
   "execution_count": 45,
   "metadata": {},
   "outputs": [
    {
     "data": {
      "text/plain": [
       "{'a': 2, 'b': 4, 'c': 3, 'd': 1, 'e': 0}"
      ]
     },
     "execution_count": 45,
     "metadata": {},
     "output_type": "execute_result"
    }
   ],
   "source": [
    "# With some help I can finally add the spaces to the right to each of the characters!\n",
    "\n",
    "space_left = 0\n",
    "results = {}\n",
    "for c in ar.strip():\n",
    "    if c.isalpha():\n",
    "        results[c]=space_left\n",
    "        space_left = 0\n",
    "    if c == ' ':\n",
    "        space_left += 1\n",
    "i =+ 1\n",
    "for key, val in list(results.items())[:-1]:\n",
    "    results[key] += list(results.values())[i]\n",
    "    i += 1\n",
    "results"
   ]
  },
  {
   "cell_type": "code",
   "execution_count": 36,
   "metadata": {},
   "outputs": [
    {
     "ename": "ValueError",
     "evalue": "not enough values to unpack (expected 2, got 1)",
     "output_type": "error",
     "traceback": [
      "\u001b[0;31m---------------------------------------------------------------------------\u001b[0m",
      "\u001b[0;31mValueError\u001b[0m                                Traceback (most recent call last)",
      "\u001b[0;32m<ipython-input-36-4c7a68eff1b3>\u001b[0m in \u001b[0;36m<module>\u001b[0;34m\u001b[0m\n\u001b[0;32m----> 1\u001b[0;31m \u001b[0;32mfor\u001b[0m \u001b[0mkey\u001b[0m\u001b[0;34m,\u001b[0m \u001b[0mval\u001b[0m \u001b[0;32min\u001b[0m \u001b[0mlist\u001b[0m\u001b[0;34m(\u001b[0m\u001b[0mresults\u001b[0m\u001b[0;34m)\u001b[0m\u001b[0;34m[\u001b[0m\u001b[0;34m:\u001b[0m\u001b[0;34m-\u001b[0m\u001b[0;36m1\u001b[0m\u001b[0;34m]\u001b[0m\u001b[0;34m:\u001b[0m\u001b[0;34m\u001b[0m\u001b[0;34m\u001b[0m\u001b[0m\n\u001b[0m\u001b[1;32m      2\u001b[0m     \u001b[0mresults\u001b[0m\u001b[0;34m[\u001b[0m\u001b[0mkey\u001b[0m\u001b[0;34m]\u001b[0m \u001b[0;34m+=\u001b[0m \u001b[0mlist\u001b[0m\u001b[0;34m(\u001b[0m\u001b[0mresults\u001b[0m\u001b[0;34m.\u001b[0m\u001b[0mvalues\u001b[0m\u001b[0;34m(\u001b[0m\u001b[0;34m)\u001b[0m\u001b[0;34m)\u001b[0m\u001b[0;34m[\u001b[0m\u001b[0mi\u001b[0m\u001b[0;34m]\u001b[0m\u001b[0;34m\u001b[0m\u001b[0;34m\u001b[0m\u001b[0m\n\u001b[1;32m      3\u001b[0m     \u001b[0mi\u001b[0m \u001b[0;34m+=\u001b[0m \u001b[0;36m1\u001b[0m\u001b[0;34m\u001b[0m\u001b[0;34m\u001b[0m\u001b[0m\n",
      "\u001b[0;31mValueError\u001b[0m: not enough values to unpack (expected 2, got 1)"
     ]
    }
   ],
   "source": [
    "for key, val in list(results)[:-1]:\n",
    "    results[key] += list(results.values())[i]\n",
    "    i += 1"
   ]
  },
  {
   "cell_type": "code",
   "execution_count": 43,
   "metadata": {},
   "outputs": [
    {
     "name": "stdout",
     "output_type": "stream",
     "text": [
      "a 0\n"
     ]
    },
    {
     "ename": "TypeError",
     "evalue": "list indices must be integers or slices, not str",
     "output_type": "error",
     "traceback": [
      "\u001b[0;31m---------------------------------------------------------------------------\u001b[0m",
      "\u001b[0;31mTypeError\u001b[0m                                 Traceback (most recent call last)",
      "\u001b[0;32m<ipython-input-43-999cd2649688>\u001b[0m in \u001b[0;36m<module>\u001b[0;34m\u001b[0m\n\u001b[1;32m      1\u001b[0m \u001b[0;32mfor\u001b[0m \u001b[0mkey\u001b[0m\u001b[0;34m,\u001b[0m \u001b[0mvalue\u001b[0m \u001b[0;32min\u001b[0m \u001b[0mlist\u001b[0m\u001b[0;34m(\u001b[0m\u001b[0mresults\u001b[0m\u001b[0;34m.\u001b[0m\u001b[0mitems\u001b[0m\u001b[0;34m(\u001b[0m\u001b[0;34m)\u001b[0m\u001b[0;34m)\u001b[0m\u001b[0;34m:\u001b[0m\u001b[0;34m\u001b[0m\u001b[0;34m\u001b[0m\u001b[0m\n\u001b[1;32m      2\u001b[0m     \u001b[0mprint\u001b[0m\u001b[0;34m(\u001b[0m\u001b[0mkey\u001b[0m\u001b[0;34m,\u001b[0m \u001b[0mvalue\u001b[0m\u001b[0;34m)\u001b[0m\u001b[0;34m\u001b[0m\u001b[0;34m\u001b[0m\u001b[0m\n\u001b[0;32m----> 3\u001b[0;31m     \u001b[0mresults\u001b[0m\u001b[0;34m[\u001b[0m\u001b[0mkey\u001b[0m\u001b[0;34m]\u001b[0m \u001b[0;34m+=\u001b[0m \u001b[0mlist\u001b[0m\u001b[0;34m(\u001b[0m\u001b[0mresults\u001b[0m\u001b[0;34m.\u001b[0m\u001b[0mvalues\u001b[0m\u001b[0;34m(\u001b[0m\u001b[0;34m)\u001b[0m\u001b[0;34m)\u001b[0m\u001b[0;34m[\u001b[0m\u001b[0mi\u001b[0m\u001b[0;34m]\u001b[0m\u001b[0;34m\u001b[0m\u001b[0;34m\u001b[0m\u001b[0m\n\u001b[0m\u001b[1;32m      4\u001b[0m     \u001b[0mi\u001b[0m \u001b[0;34m+=\u001b[0m \u001b[0;36m1\u001b[0m\u001b[0;34m\u001b[0m\u001b[0;34m\u001b[0m\u001b[0m\n",
      "\u001b[0;31mTypeError\u001b[0m: list indices must be integers or slices, not str"
     ]
    }
   ],
   "source": [
    "for key, value in list(results.items()):\n",
    "    print(key, value)\n",
    "    results[key] += list(results.values())[i]\n",
    "    i += 1"
   ]
  },
  {
   "cell_type": "code",
   "execution_count": 34,
   "metadata": {},
   "outputs": [
    {
     "data": {
      "text/plain": [
       "['b', 'c', 'd', 'e']"
      ]
     },
     "execution_count": 34,
     "metadata": {},
     "output_type": "execute_result"
    }
   ],
   "source": [
    "list(results)[1:]"
   ]
  },
  {
   "cell_type": "code",
   "execution_count": null,
   "metadata": {},
   "outputs": [],
   "source": [
    "results[key]"
   ]
  },
  {
   "cell_type": "code",
   "execution_count": 35,
   "metadata": {},
   "outputs": [
    {
     "data": {
      "text/plain": [
       "dict_values([0, 2, 2, 1, 0])"
      ]
     },
     "execution_count": 35,
     "metadata": {},
     "output_type": "execute_result"
    }
   ],
   "source": [
    "results.values()"
   ]
  },
  {
   "cell_type": "code",
   "execution_count": 55,
   "metadata": {},
   "outputs": [],
   "source": [
    "# I can return ALL of the values, but not the MAX value\n",
    "\n",
    "def pairs(ar):\n",
    "    space_left = 0\n",
    "    results = {}\n",
    "    for c in ar.strip():\n",
    "        if c.isalpha():\n",
    "            results[c]=space_left\n",
    "            space_left = 0\n",
    "        if c == ' ':\n",
    "            space_left += 1\n",
    "    return results"
   ]
  },
  {
   "cell_type": "code",
   "execution_count": 60,
   "metadata": {},
   "outputs": [
    {
     "data": {
      "text/plain": [
       "'b'"
      ]
     },
     "execution_count": 60,
     "metadata": {},
     "output_type": "execute_result"
    }
   ],
   "source": [
    "max(results, key=results.get)"
   ]
  },
  {
   "cell_type": "code",
   "execution_count": null,
   "metadata": {},
   "outputs": [],
   "source": []
  },
  {
   "cell_type": "code",
   "execution_count": null,
   "metadata": {},
   "outputs": [],
   "source": []
  },
  {
   "cell_type": "code",
   "execution_count": 56,
   "metadata": {},
   "outputs": [
    {
     "data": {
      "text/plain": [
       "{'a': 2, 'b': 4, 'c': 3, 'd': 1, 'e': 0}"
      ]
     },
     "execution_count": 56,
     "metadata": {},
     "output_type": "execute_result"
    }
   ],
   "source": [
    "pairs(ar)"
   ]
  },
  {
   "cell_type": "code",
   "execution_count": null,
   "metadata": {},
   "outputs": [],
   "source": [
    "\"a b  c\"                        #  [\"b\"]\n",
    "\"a bcs           d k\"           #  [\"d\"]\n",
    "\"    a b  sc     p     t   k\"   #  [\"p\"]\n",
    "\"a  b  c  de\"                   #  [\"b\", \"c\"]\n",
    "\"     a  b  c de        \"       #  [\"b\"]\n",
    "\"abc\"                           #  [\"a\", \"b\", \"c\"]"
   ]
  },
  {
   "cell_type": "code",
   "execution_count": 48,
   "metadata": {},
   "outputs": [
    {
     "data": {
      "text/plain": [
       "{'a': 1, 'b': 3, 'c': 2}"
      ]
     },
     "execution_count": 48,
     "metadata": {},
     "output_type": "execute_result"
    }
   ],
   "source": [
    "pairs(\"a b  c\")"
   ]
  },
  {
   "cell_type": "code",
   "execution_count": 61,
   "metadata": {},
   "outputs": [],
   "source": [
    "# I can return the max key, but only if there is ONE of them...\n",
    "\n",
    "def pairs(ar):\n",
    "    space_left = 0\n",
    "    results = {}\n",
    "    for c in ar.strip():\n",
    "        if c.isalpha():\n",
    "            results[c]=space_left\n",
    "            space_left = 0\n",
    "        if c == ' ':\n",
    "            space_left += 1\n",
    "    i =+ 1\n",
    "    for key, val in list(results.items())[:-1]:\n",
    "        results[key] += list(results.values())[i]\n",
    "        i += 1\n",
    "    return max(results, key=results.get)"
   ]
  },
  {
   "cell_type": "code",
   "execution_count": 63,
   "metadata": {},
   "outputs": [
    {
     "data": {
      "text/plain": [
       "'b'"
      ]
     },
     "execution_count": 63,
     "metadata": {},
     "output_type": "execute_result"
    }
   ],
   "source": [
    "pairs(\"a b  c\") #  [\"b\"]"
   ]
  },
  {
   "cell_type": "code",
   "execution_count": 64,
   "metadata": {},
   "outputs": [
    {
     "data": {
      "text/plain": [
       "'d'"
      ]
     },
     "execution_count": 64,
     "metadata": {},
     "output_type": "execute_result"
    }
   ],
   "source": [
    "pairs(\"a bcs           d k\")           #  [\"d\"]"
   ]
  },
  {
   "cell_type": "code",
   "execution_count": 65,
   "metadata": {},
   "outputs": [
    {
     "data": {
      "text/plain": [
       "'p'"
      ]
     },
     "execution_count": 65,
     "metadata": {},
     "output_type": "execute_result"
    }
   ],
   "source": [
    "pairs(\"    a b  sc     p     t   k\")   #  [\"p\"]"
   ]
  },
  {
   "cell_type": "code",
   "execution_count": 66,
   "metadata": {},
   "outputs": [
    {
     "data": {
      "text/plain": [
       "'b'"
      ]
     },
     "execution_count": 66,
     "metadata": {},
     "output_type": "execute_result"
    }
   ],
   "source": [
    "pairs(\"a  b  c  de\")                  #  [\"b\", \"c\"]"
   ]
  },
  {
   "cell_type": "code",
   "execution_count": 69,
   "metadata": {},
   "outputs": [
    {
     "data": {
      "text/plain": [
       "['b']"
      ]
     },
     "execution_count": 69,
     "metadata": {},
     "output_type": "execute_result"
    }
   ],
   "source": [
    "key_list = []\n",
    "for key, val in results.items():\n",
    "    if val == max(results.items(), key=lambda x: x[1])[1]:\n",
    "        key_list.append(key)\n",
    "key_list"
   ]
  },
  {
   "cell_type": "code",
   "execution_count": 67,
   "metadata": {},
   "outputs": [
    {
     "data": {
      "text/plain": [
       "['b']"
      ]
     },
     "execution_count": 67,
     "metadata": {},
     "output_type": "execute_result"
    }
   ],
   "source": [
    "[key for key, val in results.items() if val == max(results.values())]"
   ]
  },
  {
   "cell_type": "code",
   "execution_count": 70,
   "metadata": {},
   "outputs": [],
   "source": [
    "# Finally, my final solution!\n",
    "def pairs(ar):\n",
    "    space_left = 0\n",
    "    results = {}\n",
    "    for c in ar.strip():\n",
    "        if c.isalpha():\n",
    "            results[c]=space_left\n",
    "            space_left = 0\n",
    "        if c == ' ':\n",
    "            space_left += 1\n",
    "    i =+ 1\n",
    "    for key, val in list(results.items())[:-1]:\n",
    "        results[key] += list(results.values())[i]\n",
    "        i += 1\n",
    "   \n",
    "    key_list = []\n",
    "    for key, val in results.items():\n",
    "        if val == max(results.items(), key=lambda x: x[1])[1]:\n",
    "            key_list.append(key)\n",
    "    return key_list"
   ]
  },
  {
   "cell_type": "code",
   "execution_count": 71,
   "metadata": {},
   "outputs": [
    {
     "data": {
      "text/plain": [
       "['b', 'c']"
      ]
     },
     "execution_count": 71,
     "metadata": {},
     "output_type": "execute_result"
    }
   ],
   "source": [
    "pairs(\"a  b  c  de\")                  #  [\"b\", \"c\"]"
   ]
  },
  {
   "cell_type": "code",
   "execution_count": 72,
   "metadata": {},
   "outputs": [
    {
     "data": {
      "text/plain": [
       "['a', 'b', 'c']"
      ]
     },
     "execution_count": 72,
     "metadata": {},
     "output_type": "execute_result"
    }
   ],
   "source": [
    "pairs(\"abc\")                           #  [\"a\", \"b\", \"c\"]"
   ]
  },
  {
   "cell_type": "code",
   "execution_count": 73,
   "metadata": {},
   "outputs": [
    {
     "data": {
      "text/plain": [
       "['b']"
      ]
     },
     "execution_count": 73,
     "metadata": {},
     "output_type": "execute_result"
    }
   ],
   "source": [
    "pairs(\"     a  b  c de        \")       #  [\"b\"]\n"
   ]
  },
  {
   "cell_type": "markdown",
   "metadata": {},
   "source": [
    "# Other Solutions"
   ]
  },
  {
   "cell_type": "code",
   "execution_count": null,
   "metadata": {},
   "outputs": [],
   "source": [
    "import regex\n",
    "\n",
    "def loneliest(s):\n",
    "    ss = regex.findall(r'(?<!\\s)\\s*\\S\\s*', s.strip(), overlapped=True)\n",
    "    max_len = max(map(len, ss))\n",
    "    return [s.strip() for s in ss if len(s) == max_len]"
   ]
  },
  {
   "cell_type": "code",
   "execution_count": null,
   "metadata": {},
   "outputs": [],
   "source": [
    "def loneliest(s):\n",
    "    s=s.strip()\n",
    "    ind=[-1,len(s)]\n",
    "    for i in range(len(s)):\n",
    "        if s[i]!=' ':\n",
    "            ind.insert(-1,i)\n",
    "            \n",
    "    d={}\n",
    "    for i in range(1,len(ind)-1):\n",
    "        x=ind[i+1]-ind[i-1]-2\n",
    "        if not d.get(x):\n",
    "            d[x]=[]\n",
    "        d[x].append(s[ind[i]])\n",
    "    return (d[max(d)])"
   ]
  },
  {
   "cell_type": "code",
   "execution_count": 39,
   "metadata": {},
   "outputs": [],
   "source": [
    "def loneliest(strng):\n",
    "    master = {}\n",
    "    left = ''\n",
    "    right = ''\n",
    "    spaces = 0\n",
    "    for c in strng.strip():\n",
    "        if c == ' ':\n",
    "            spaces += 1\n",
    "            if spaces == 1:\n",
    "                left = right\n",
    "                right = ''\n",
    "        if c.isalpha():\n",
    "            right = c\n",
    "            if left:\n",
    "                master[left] += spaces\n",
    "            master[right] = spaces\n",
    "            spaces = 0\n",
    "    top = max(master.values())\n",
    "    return [k for k, v in master.items() if v == top]"
   ]
  },
  {
   "cell_type": "code",
   "execution_count": null,
   "metadata": {},
   "outputs": [],
   "source": [
    "def loneliest(strng):\n",
    "    # get rid of any leading or trailing spaces\n",
    "    while strng[0] == ' ' or strng[-1] == ' ':\n",
    "        if strng[0] == ' ':\n",
    "            strng = strng[1:]\n",
    "        if strng[-1] == ' ':\n",
    "            strng = strng[:-1]\n",
    "    # create dict from strng, populate with each letter from strng as keys\n",
    "    # and the number of spaces preceeding each letter as values\n",
    "    c = 0\n",
    "    d = {}\n",
    "    for i in range(len(strng)):\n",
    "        if strng[i] == ' ':\n",
    "            c += 1\n",
    "        else:\n",
    "            d.update({strng[i]:c})\n",
    "            c = 0\n",
    "    # add next value to current value to get total spaces around each letter\n",
    "    i = 1\n",
    "    for key, val in list(d.items())[:-1]:\n",
    "        d[key] += list(d.values())[i]\n",
    "        i += 1\n",
    "    # return all keys that map to the max value\n",
    "    return [key for key, val in d.items() if val == max(d.values())]"
   ]
  },
  {
   "cell_type": "code",
   "execution_count": null,
   "metadata": {},
   "outputs": [],
   "source": []
  }
 ],
 "metadata": {
  "kernelspec": {
   "display_name": "Python 3",
   "language": "python",
   "name": "python3"
  },
  "language_info": {
   "codemirror_mode": {
    "name": "ipython",
    "version": 3
   },
   "file_extension": ".py",
   "mimetype": "text/x-python",
   "name": "python",
   "nbconvert_exporter": "python",
   "pygments_lexer": "ipython3",
   "version": "3.8.5"
  },
  "toc": {
   "base_numbering": 1,
   "nav_menu": {},
   "number_sections": true,
   "sideBar": true,
   "skip_h1_title": false,
   "title_cell": "Table of Contents",
   "title_sidebar": "Contents",
   "toc_cell": false,
   "toc_position": {},
   "toc_section_display": true,
   "toc_window_display": false
  }
 },
 "nbformat": 4,
 "nbformat_minor": 4
}
